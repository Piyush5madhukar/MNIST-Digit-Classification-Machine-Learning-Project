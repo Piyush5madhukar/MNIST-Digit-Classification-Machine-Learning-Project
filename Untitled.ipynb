{
 "cells": [
  {
   "cell_type": "code",
   "execution_count": 2,
   "id": "79d58fc9",
   "metadata": {},
   "outputs": [
    {
     "name": "stdout",
     "output_type": "stream",
     "text": [
      "madhukar\n"
     ]
    }
   ],
   "source": [
    "print(\"madhukar\")"
   ]
  },
  {
   "cell_type": "code",
   "execution_count": 3,
   "id": "118e3f9e",
   "metadata": {},
   "outputs": [
    {
     "name": "stdout",
     "output_type": "stream",
     "text": [
      "pygame 2.1.0 (SDL 2.0.16, Python 3.10.4)\n",
      "Hello from the pygame community. https://www.pygame.org/contribute.html\n"
     ]
    }
   ],
   "source": [
    "\n",
    "from tokenize import Number\n",
    "from numpy import testing\n",
    "from numpy.lib.type_check import imag\n",
    "import pygame,sys\n",
    "from pygame import image\n",
    "\n",
    "\n"
   ]
  },
  {
   "cell_type": "code",
   "execution_count": 4,
   "id": "bcb3d722",
   "metadata": {},
   "outputs": [],
   "source": [
    "from pygame.locals import *\n",
    "import numpy as np\n",
    "from keras.models import load_model\n",
    "import cv2\n",
    "from tensorflow.python.keras.backend import constant\n",
    "import numpy.testing as npt\n",
    "#print(numpy.testing)"
   ]
  },
  {
   "cell_type": "code",
   "execution_count": 6,
   "id": "d94460b3",
   "metadata": {},
   "outputs": [
    {
     "ename": "IndexError",
     "evalue": "list index out of range",
     "output_type": "error",
     "traceback": [
      "\u001b[1;31m---------------------------------------------------------------------------\u001b[0m",
      "\u001b[1;31mIndexError\u001b[0m                                Traceback (most recent call last)",
      "Input \u001b[1;32mIn [6]\u001b[0m, in \u001b[0;36m<cell line: 44>\u001b[1;34m()\u001b[0m\n\u001b[0;32m     67\u001b[0m number_ycord\u001b[38;5;241m=\u001b[39m\u001b[38;5;28msorted\u001b[39m(number_ycord)\n\u001b[0;32m     69\u001b[0m \u001b[38;5;66;03m#forming the rectangle\u001b[39;00m\n\u001b[1;32m---> 70\u001b[0m rect_min_x ,rect_max_x \u001b[38;5;241m=\u001b[39m\u001b[38;5;28mmax\u001b[39m(\u001b[43mnumber_xcord\u001b[49m\u001b[43m[\u001b[49m\u001b[38;5;241;43m0\u001b[39;49m\u001b[43m]\u001b[49m\u001b[38;5;241m-\u001b[39mBOUNDRYINC,\u001b[38;5;241m0\u001b[39m),\u001b[38;5;28mmin\u001b[39m(WINDOWSIZEX,number_xcord[\u001b[38;5;241m-\u001b[39m\u001b[38;5;241m1\u001b[39m]\u001b[38;5;241m+\u001b[39mBOUNDRYINC)\n\u001b[0;32m     72\u001b[0m rect_min_Y,rect_max_Y \u001b[38;5;241m=\u001b[39m\u001b[38;5;28mmax\u001b[39m(number_ycord[\u001b[38;5;241m0\u001b[39m]\u001b[38;5;241m-\u001b[39mBOUNDRYINC),\u001b[38;5;28mmin\u001b[39m(number_ycord[\u001b[38;5;241m-\u001b[39m\u001b[38;5;241m1\u001b[39m]\u001b[38;5;241m+\u001b[39mBOUNDRYINC,WINDOWSIZEX)\n\u001b[0;32m     74\u001b[0m \u001b[38;5;66;03m#reinitalize\u001b[39;00m\n",
      "\u001b[1;31mIndexError\u001b[0m: list index out of range"
     ]
    }
   ],
   "source": [
    "WINDOWSIZEX =640\n",
    "WINDOWSIZEY=480\n",
    "\n",
    "\n",
    "BOUNDRYINC =5\n",
    "WHITE=(255,255,255)\n",
    "BLACK=(0,0,0)\n",
    "RED =(255,0,0)\n",
    "\n",
    "IMAGESAVE=False\n",
    "\n",
    "MODEL=load_model(\"bestmodel.h5  \")\n",
    "\n",
    "\n",
    "LABELS ={0:\"Zero\",\n",
    "        1:\"One\",\n",
    "        2:\"Two\",\n",
    "        3:\"Three\",\n",
    "        4:\"Four\",\n",
    "        5:\"Five\",\n",
    "        6:\"Six\",\n",
    "        7:\"Seven\",\n",
    "        8:\"Eight\",\n",
    "        9:\"Nine\"}\n",
    "##creating a application window\n",
    "#initialize our pygame\n",
    "pygame.init()\n",
    "FONT = pygame.font.Font(\"freesansbold.ttf\",18)\n",
    "DISPLAYSURF=  pygame.display.set_mode((WINDOWSIZEX,WINDOWSIZEY))\n",
    "WHITE_INT =DISPLAYSURF.map_rgb(WHITE)\n",
    "iswriting= False\n",
    "xcord=0\n",
    "ycord=0\n",
    "\n",
    "pygame.display.set_caption(\"WHITE Board\")\n",
    "\n",
    "number_xcord =[]\n",
    "number_ycord=[]\n",
    "image_cnt =1\n",
    "\n",
    "PREDICT= True\n",
    "\n",
    "#capture any moment\n",
    "while True :\n",
    "    for event in pygame.event.get():\n",
    "        if(event.type == QUIT):\n",
    "            #running =False\n",
    "            pygame.quit()\n",
    "            sys.exit()\n",
    "       \n",
    "        elif event.type == pygame.MOUSEMOTION and iswriting:\n",
    "            xcord ,ycord =event.pos#coordintes of the mouse\n",
    "            pygame.draw.line(DISPLAYSURF,WHITE,(xcord,ycord),4,0)#4 is thikness,0 is brightness\n",
    "\n",
    "            number_xcord.append(xcord)\n",
    "            number_ycord.append(ycord)\n",
    "\n",
    "\n",
    "        elif event.type ==MOUSEBUTTONDOWN:\n",
    "            iswriting = True\n",
    "\n",
    "\n",
    "        elif event.type ==MOUSEBUTTONUP:#TO CAPTURE WHATS DONE AFTER WRITING\n",
    "            iswriting= False\n",
    "\n",
    "            number_xcord=sorted(number_xcord)\n",
    "            number_ycord=sorted(number_ycord)\n",
    "\n",
    "            #forming the rectangle\n",
    "            rect_min_x ,rect_max_x =max(number_xcord[0]-BOUNDRYINC,0),min(WINDOWSIZEX,number_xcord[-1]+BOUNDRYINC)\n",
    "\n",
    "            rect_min_Y,rect_max_Y =max(number_ycord[0]-BOUNDRYINC),min(number_ycord[-1]+BOUNDRYINC,WINDOWSIZEX)\n",
    "            \n",
    "            #reinitalize\n",
    "            number_xcord =[]\n",
    "            number_ycord=[]\n",
    "            #image_cnt =1\n",
    "            #extract the content in the display surface\n",
    "            img_arr = np.array(pygame.PixelArray(DISPLAYSURF))[rect_min_x:rect_max_x ,rect_min_Y:rect_max_Y].T.astype(np.float32)\n",
    "             \n",
    "\n",
    "\n",
    "            if IMAGESAVE:\n",
    "                cv2.imwrite(\"image.png\") \n",
    "                image_cnt +=1\n",
    "\n",
    "            if PREDICT:\n",
    "\n",
    "                image =cv2.resize(img_arr,(28,28))    \n",
    "                image =np.pad(image ,(10,10), 'constant',constant_values=0)\n",
    "                image =cv2.resize(image,(28,28))/255\n",
    "\n",
    "                #list comprehension\n",
    "                label =str(LABELS[np.argmax(MODEL.predict(image.reshape(1,28,28,1)))])\n",
    "\n",
    "                textSurface=FONT.render(label, True,RED ,WHITE)\n",
    "                textRecObj= textSurface.get_rect()\n",
    "                textRecObj.left,textRecObj.bottom =rect_min_x,rect_max_Y\n",
    "\n",
    "\n",
    "                DISPLAYSURF.blit(textSurface,textRecObj)\n",
    "            \n",
    "\n",
    "\n",
    "            if event.type ==KEYDOWN:\n",
    "                if event.unicode ==\"n\":\n",
    "                    DISPLAYSURF.fill(BLACK)\n",
    "\n",
    "\n",
    "\n",
    "pygame.display.update()             \n",
    "\n",
    "\n",
    "    \n",
    "\n",
    "\n",
    "\n"
   ]
  },
  {
   "cell_type": "code",
   "execution_count": null,
   "id": "df01836e",
   "metadata": {},
   "outputs": [],
   "source": []
  },
  {
   "cell_type": "code",
   "execution_count": null,
   "id": "cdbf9aa7",
   "metadata": {},
   "outputs": [],
   "source": []
  }
 ],
 "metadata": {
  "kernelspec": {
   "display_name": "Python 3 (ipykernel)",
   "language": "python",
   "name": "python3"
  },
  "language_info": {
   "codemirror_mode": {
    "name": "ipython",
    "version": 3
   },
   "file_extension": ".py",
   "mimetype": "text/x-python",
   "name": "python",
   "nbconvert_exporter": "python",
   "pygments_lexer": "ipython3",
   "version": "3.10.4"
  }
 },
 "nbformat": 4,
 "nbformat_minor": 5
}
