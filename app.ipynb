{
 "cells": [
  {
   "cell_type": "code",
   "execution_count": null,
   "metadata": {},
   "outputs": [],
   "source": [
    "import pygame,sys"
   ]
  },
  {
   "cell_type": "code",
   "execution_count": null,
   "metadata": {},
   "outputs": [],
   "source": [
    "from pygame.locals import *"
   ]
  },
  {
   "cell_type": "code",
   "execution_count": null,
   "metadata": {},
   "outputs": [],
   "source": [
    "import numpy as np"
   ]
  },
  {
   "cell_type": "code",
   "execution_count": null,
   "metadata": {},
   "outputs": [],
   "source": [
    "from keras.models import load_model"
   ]
  },
  {
   "cell_type": "code",
   "execution_count": null,
   "metadata": {},
   "outputs": [],
   "source": [
    "import cv2"
   ]
  },
  {
   "cell_type": "code",
   "execution_count": null,
   "metadata": {},
   "outputs": [
    {
     "ename": "FileNotFoundError",
     "evalue": "[Errno 2] No such file or directory: 'freesansbold.tff'",
     "output_type": "error",
     "traceback": [
      "\u001b[1;31m---------------------------------------------------------------------------\u001b[0m",
      "\u001b[1;31mFileNotFoundError\u001b[0m                         Traceback (most recent call last)",
      "\u001b[1;32mf:\\MNIST\\.ipynb_checkpoints\\app.ipynb Cell 6\u001b[0m in \u001b[0;36m<cell line: 14>\u001b[1;34m()\u001b[0m\n\u001b[0;32m     <a href='vscode-notebook-cell:/f%3A/MNIST/.ipynb_checkpoints/app.ipynb#W5sZmlsZQ%3D%3D?line=10'>11</a>\u001b[0m \u001b[39m##creating a application window\u001b[39;00m\n\u001b[0;32m     <a href='vscode-notebook-cell:/f%3A/MNIST/.ipynb_checkpoints/app.ipynb#W5sZmlsZQ%3D%3D?line=11'>12</a>\u001b[0m \u001b[39m#initialize our pygame\u001b[39;00m\n\u001b[0;32m     <a href='vscode-notebook-cell:/f%3A/MNIST/.ipynb_checkpoints/app.ipynb#W5sZmlsZQ%3D%3D?line=12'>13</a>\u001b[0m pygame\u001b[39m.\u001b[39minit()\n\u001b[1;32m---> <a href='vscode-notebook-cell:/f%3A/MNIST/.ipynb_checkpoints/app.ipynb#W5sZmlsZQ%3D%3D?line=13'>14</a>\u001b[0m Font \u001b[39m=\u001b[39mpygame\u001b[39m.\u001b[39;49mfont\u001b[39m.\u001b[39;49mFont(\u001b[39m\"\u001b[39;49m\u001b[39mfreesansbold.tff\u001b[39;49m\u001b[39m\"\u001b[39;49m,\u001b[39m18\u001b[39;49m  )\n\u001b[0;32m     <a href='vscode-notebook-cell:/f%3A/MNIST/.ipynb_checkpoints/app.ipynb#W5sZmlsZQ%3D%3D?line=14'>15</a>\u001b[0m pygame\u001b[39m.\u001b[39mdisplay\u001b[39m.\u001b[39mset_mode((WINDOWSIZEX,WINDOWSIZEY))\n\u001b[0;32m     <a href='vscode-notebook-cell:/f%3A/MNIST/.ipynb_checkpoints/app.ipynb#W5sZmlsZQ%3D%3D?line=15'>16</a>\u001b[0m pygame\u001b[39m.\u001b[39mdisplay\u001b[39m.\u001b[39mset_caption(\u001b[39m\"\u001b[39m\u001b[39mDigit Board\u001b[39m\u001b[39m\"\u001b[39m)\n",
      "\u001b[1;31mFileNotFoundError\u001b[0m: [Errno 2] No such file or directory: 'freesansbold.tff'"
     ]
    }
   ],
   "source": [
    "WINDOWSIZEX =640\n",
    "WINDOWSIZEY=480\n",
    "\n",
    "WHITE=(255,255,255)\n",
    "BLACK=(0,0,0)\n",
    "RED =(255,0,0)\n",
    "\n",
    "IMAGESAVE=False\n",
    "\n",
    "\n",
    "##creating a application window\n",
    "#initialize our pygame\n",
    "pygame.init()\n",
    "Font =pygame.font.Font(\"freesansbold.tff\",18  )\n",
    "pygame.display.set_mode((WINDOWSIZEX,WINDOWSIZEY))\n",
    "pygame.display.set_caption(\"Digit Board\")"
   ]
  },
  {
   "cell_type": "code",
   "execution_count": 9,
   "metadata": {},
   "outputs": [],
   "source": [
    "#capture any moment\n",
    "while True :\n",
    "    for event in pygame.event.get():\n",
    "        if(event.type == pygame.QUIT):\n",
    "            running =False\n",
    "            pygame.quit()\n",
    "            pygame.exit()\n",
    "    "
   ]
  },
  {
   "cell_type": "code",
   "execution_count": null,
   "metadata": {},
   "outputs": [],
   "source": []
  }
 ],
 "metadata": {
  "kernelspec": {
   "display_name": "Python 3",
   "language": "python",
   "name": "python3"
  },
  "language_info": {
   "codemirror_mode": {
    "name": "ipython",
    "version": 3
   },
   "file_extension": ".py",
   "mimetype": "text/x-python",
   "name": "python",
   "nbconvert_exporter": "python",
   "pygments_lexer": "ipython3",
   "version": "3.10.4 (tags/v3.10.4:9d38120, Mar 23 2022, 23:13:41) [MSC v.1929 64 bit (AMD64)]"
  },
  "orig_nbformat": 4,
  "vscode": {
   "interpreter": {
    "hash": "e56d01ab1fd7a34febe00a61331d711bbc5cb6a6b987408ecba5318ce5f597fa"
   }
  }
 },
 "nbformat": 4,
 "nbformat_minor": 2
}
